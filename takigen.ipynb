{
 "cells": [
  {
   "cell_type": "code",
   "execution_count": 3,
   "id": "9d07241f",
   "metadata": {},
   "outputs": [
    {
     "name": "stderr",
     "output_type": "stream",
     "text": [
      "/var/folders/9z/_tv0kl191wvbx_078d5dg6fc0000gn/T/ipykernel_99463/3578211513.py:19: DeprecationWarning: executable_path has been deprecated, please pass in a Service object\n",
      "  driver = webdriver.Chrome('/Users/ricky/desktop/chromedriver')\n"
     ]
    }
   ],
   "source": [
    "from bs4 import BeautifulSoup\n",
    "import requests\n",
    "import re\n",
    "from retry import retry \n",
    "import pandas as pd\n",
    "from lxml import etree\n",
    "from selenium import webdriver\n",
    "from selenium.webdriver.common.by import By\n",
    "import re\n",
    "from copy import deepcopy\n",
    "import copy\n",
    "\n",
    "'/Users/ricky/dev/scraping/drivers/chromedriver'\n",
    "\n",
    "try:\n",
    "    if not driver.window_handles:\n",
    "        driver = webdriver.Chrome('/Users/ricky/desktop/chromedriver')\n",
    "except:\n",
    "    driver = webdriver.Chrome('/Users/ricky/desktop/chromedriver')\n",
    "\n",
    "# 必要な関数類\n",
    "@retry(tries=3, delay=10, backoff=2)\n",
    "def get_html(url):\n",
    "    r = requests.get(url)\n",
    "    soup = BeautifulSoup(r.content, \"html.parser\")\n",
    "    return soup\n",
    "\n",
    "def keyword_to_url(keywords):\n",
    "    first = \"https://job.mynavi.jp/24/pc/corpinfo/searchCorpListByGenCond/index?actionMode=searchFw&cond=&\"\n",
    "    last = f\"srchWord={keywords}&q={keywords}&SC=corp&srchWordTgt=1\"\n",
    "    return first+last\n",
    "\n",
    "def make_id_dict(elem_list):\n",
    "    result = {}\n",
    "    for item in elem_list:\n",
    "        _id = re.search(\"(.*)(_label)\", item.get(\"id\"))[1]\n",
    "        result[item.text] = _id\n",
    "    return result\n",
    "\n",
    "def condition_join(words):\n",
    "    if words:\n",
    "        return \",\".join(words)\n",
    "    return None\n",
    "\n",
    "def extract_condition(info_dict):\n",
    "    conditions = [\"検索語\", \"業種(カテゴリ)\", \"業種(詳細)\", \"地域\", \"職種\", \"福利厚生\", \"従業員数\"]\n",
    "    result = []\n",
    "    for cond in conditions:\n",
    "        if not info_dict.get(cond):\n",
    "            result.append(None)\n",
    "        else:\n",
    "            result.append(condition_join(info_dict[cond]))\n",
    "    return result\n",
    "\n",
    "def modify_condition_str(cond_str):\n",
    "    return re.search(\"(.*)(\\(\\d*件\\))\", cond_str)[1]\n",
    "\n",
    "def update_dictkey(target_dict, func):\n",
    "    _dict={}\n",
    "    for key, value in target_dict.items():\n",
    "        _dict[func(key)] = value\n",
    "    return _dict\n",
    "\n",
    "def condition_iter(condition, words_list):\n",
    "    result = [condition, ]\n",
    "    for words in words_list:\n",
    "        if type(words) == str:\n",
    "            words = [words]\n",
    "        c = copy.copy(condition)\n",
    "        c[\"検索語\"] = [*words]\n",
    "        result.append(c)\n",
    "    return result\n",
    "\n",
    "def print_search_info(info):\n",
    "    cond = \"None\"\n",
    "    search_word = \"None\"\n",
    "    for key, value in info.items():\n",
    "        if key == \"検索語\":\n",
    "            search_word = value\n",
    "        elif value:\n",
    "            if cond == \"None\":\n",
    "                cond = []\n",
    "            cond.extend(value)\n",
    "    print(f\"検索語 : {search_word}  条件 : {cond}\")\n",
    "            \n",
    "\n",
    "# 条件検索のための関数\n",
    "# dataには条件 + 検索語が入る。条件のフォーマットはsearch_infoを参照\n",
    "def search(data):\n",
    "    driver.get(\"https://job.mynavi.jp/24/pc/corpinfo/displayCorpSearch/index\")\n",
    "    if not data.get(\"検索語\"):\n",
    "        data[\"検索語\"] = \"\"\n",
    "    try:\n",
    "        check_script = \"arguments[0].checked = true\"\n",
    "        for key, values in data.items():\n",
    "            if key == \"検索語\":\n",
    "                continue\n",
    "            for word in values:\n",
    "                try:\n",
    "                    _id = conditions[key][word]\n",
    "                    _input = driver.find_element(By.ID, _id)\n",
    "                    driver.execute_script(check_script, _input)\n",
    "                except:\n",
    "                    print(f\"正しい条件語ではありません : {word}\")\n",
    "        button = driver.find_element(By.ID, \"doSearch\")\n",
    "        driver.execute_script(\"arguments[0].disabled = false\", button)\n",
    "        button.click()\n",
    "\n",
    "        _input = driver.find_element(By.ID, \"srchWord\")\n",
    "        search_words = \",\".join(data[\"検索語\"])\n",
    "        try:\n",
    "            driver.execute_script(f\"arguments[0].value = '{search_words}'\", _input)\n",
    "            button = driver.find_element(By.ID, \"doSearch\")\n",
    "            driver.execute_script(\"arguments[0].click()\", button)\n",
    "        except:\n",
    "            print(\"検索結果が少なすぎるため、検索語は無視されます\")\n",
    "        return True\n",
    "    except BaseException as e:\n",
    "        print({e})\n",
    "        return False\n",
    "    \n",
    "# 条件検索のフォーマット\n",
    "# カテゴリごとに条件をリスト形式で入力。サポートされている条件は直下のセルのconditionsを参照\n",
    "example_info = {\n",
    "    \"業種(カテゴリ)\": [], \n",
    "    \"業種(詳細)\" : ['非鉄金属', \"金属製品\"], \n",
    "    \"地域\": [\"東京\"], \n",
    "    \"職種\": [], \n",
    "    \"福利厚生\": [],\n",
    "    \"従業員数\": [], \n",
    "    \"検索語\" : [\"製造\"],\n",
    "}"
   ]
  },
  {
   "cell_type": "code",
   "execution_count": 4,
   "id": "dadcc84f",
   "metadata": {},
   "outputs": [
    {
     "ename": "NoSuchWindowException",
     "evalue": "Message: no such window: target window already closed\nfrom unknown error: web view not found\n  (Session info: chrome=107.0.5304.121)\nStacktrace:\n0   chromedriver                        0x000000010287e2c8 chromedriver + 4752072\n1   chromedriver                        0x00000001027fe463 chromedriver + 4228195\n2   chromedriver                        0x0000000102461b18 chromedriver + 441112\n3   chromedriver                        0x000000010243e210 chromedriver + 295440\n4   chromedriver                        0x00000001024c3e3d chromedriver + 843325\n5   chromedriver                        0x00000001024d7719 chromedriver + 923417\n6   chromedriver                        0x00000001024bfb33 chromedriver + 826163\n7   chromedriver                        0x00000001024909fd chromedriver + 633341\n8   chromedriver                        0x0000000102492051 chromedriver + 639057\n9   chromedriver                        0x000000010284b30e chromedriver + 4543246\n10  chromedriver                        0x000000010284fa88 chromedriver + 4561544\n11  chromedriver                        0x00000001028576df chromedriver + 4593375\n12  chromedriver                        0x00000001028508fa chromedriver + 4565242\n13  chromedriver                        0x00000001028262cf chromedriver + 4391631\n14  chromedriver                        0x000000010286f5b8 chromedriver + 4691384\n15  chromedriver                        0x000000010286f739 chromedriver + 4691769\n16  chromedriver                        0x000000010288581e chromedriver + 4782110\n17  libsystem_pthread.dylib             0x00007ff81e7ca4f4 _pthread_start + 125\n18  libsystem_pthread.dylib             0x00007ff81e7c600f thread_start + 15\n",
     "output_type": "error",
     "traceback": [
      "\u001b[0;31m---------------------------------------------------------------------------\u001b[0m",
      "\u001b[0;31mNoSuchWindowException\u001b[0m                     Traceback (most recent call last)",
      "Input \u001b[0;32mIn [4]\u001b[0m, in \u001b[0;36m<cell line: 5>\u001b[0;34m()\u001b[0m\n\u001b[1;32m      3\u001b[0m \u001b[38;5;28;01mif\u001b[39;00m \u001b[38;5;129;01mnot\u001b[39;00m \u001b[38;5;28mglobals\u001b[39m()\u001b[38;5;241m.\u001b[39mget(\u001b[38;5;124m\"\u001b[39m\u001b[38;5;124mdriver\u001b[39m\u001b[38;5;124m\"\u001b[39m):\n\u001b[1;32m      4\u001b[0m     driver \u001b[38;5;241m=\u001b[39m webdriver\u001b[38;5;241m.\u001b[39mChrome(\u001b[38;5;124m'\u001b[39m\u001b[38;5;124m/Users/ricky/dev/scraping/drivers/chromedriver\u001b[39m\u001b[38;5;124m'\u001b[39m)\n\u001b[0;32m----> 5\u001b[0m \u001b[43mdriver\u001b[49m\u001b[38;5;241;43m.\u001b[39;49m\u001b[43mget\u001b[49m\u001b[43m(\u001b[49m\u001b[38;5;124;43m\"\u001b[39;49m\u001b[38;5;124;43mhttps://job.mynavi.jp/24/pc/corpinfo/displayCorpSearch/index\u001b[39;49m\u001b[38;5;124;43m\"\u001b[39;49m\u001b[43m)\u001b[49m\n\u001b[1;32m      6\u001b[0m html \u001b[38;5;241m=\u001b[39m BeautifulSoup(driver\u001b[38;5;241m.\u001b[39mpage_source, \u001b[38;5;124m\"\u001b[39m\u001b[38;5;124mhtml.parser\u001b[39m\u001b[38;5;124m\"\u001b[39m)\n\u001b[1;32m      7\u001b[0m ind_category_inputs \u001b[38;5;241m=\u001b[39m html\u001b[38;5;241m.\u001b[39mfind_all(\u001b[38;5;124m\"\u001b[39m\u001b[38;5;124ma\u001b[39m\u001b[38;5;124m\"\u001b[39m, {\u001b[38;5;124m\"\u001b[39m\u001b[38;5;124mid\u001b[39m\u001b[38;5;124m\"\u001b[39m:re\u001b[38;5;241m.\u001b[39mcompile(\u001b[38;5;124mr\u001b[39m\u001b[38;5;124m\"\u001b[39m\u001b[38;5;124mindustryCheckLink\u001b[39m\u001b[38;5;124m\\\u001b[39m\u001b[38;5;124md+\u001b[39m\u001b[38;5;124m\"\u001b[39m)})\n",
      "File \u001b[0;32m~/opt/anaconda3/lib/python3.9/site-packages/selenium/webdriver/remote/webdriver.py:440\u001b[0m, in \u001b[0;36mWebDriver.get\u001b[0;34m(self, url)\u001b[0m\n\u001b[1;32m    436\u001b[0m \u001b[38;5;28;01mdef\u001b[39;00m \u001b[38;5;21mget\u001b[39m(\u001b[38;5;28mself\u001b[39m, url: \u001b[38;5;28mstr\u001b[39m) \u001b[38;5;241m-\u001b[39m\u001b[38;5;241m>\u001b[39m \u001b[38;5;28;01mNone\u001b[39;00m:\n\u001b[1;32m    437\u001b[0m     \u001b[38;5;124;03m\"\"\"\u001b[39;00m\n\u001b[1;32m    438\u001b[0m \u001b[38;5;124;03m    Loads a web page in the current browser session.\u001b[39;00m\n\u001b[1;32m    439\u001b[0m \u001b[38;5;124;03m    \"\"\"\u001b[39;00m\n\u001b[0;32m--> 440\u001b[0m     \u001b[38;5;28;43mself\u001b[39;49m\u001b[38;5;241;43m.\u001b[39;49m\u001b[43mexecute\u001b[49m\u001b[43m(\u001b[49m\u001b[43mCommand\u001b[49m\u001b[38;5;241;43m.\u001b[39;49m\u001b[43mGET\u001b[49m\u001b[43m,\u001b[49m\u001b[43m \u001b[49m\u001b[43m{\u001b[49m\u001b[38;5;124;43m'\u001b[39;49m\u001b[38;5;124;43murl\u001b[39;49m\u001b[38;5;124;43m'\u001b[39;49m\u001b[43m:\u001b[49m\u001b[43m \u001b[49m\u001b[43murl\u001b[49m\u001b[43m}\u001b[49m\u001b[43m)\u001b[49m\n",
      "File \u001b[0;32m~/opt/anaconda3/lib/python3.9/site-packages/selenium/webdriver/remote/webdriver.py:428\u001b[0m, in \u001b[0;36mWebDriver.execute\u001b[0;34m(self, driver_command, params)\u001b[0m\n\u001b[1;32m    426\u001b[0m response \u001b[38;5;241m=\u001b[39m \u001b[38;5;28mself\u001b[39m\u001b[38;5;241m.\u001b[39mcommand_executor\u001b[38;5;241m.\u001b[39mexecute(driver_command, params)\n\u001b[1;32m    427\u001b[0m \u001b[38;5;28;01mif\u001b[39;00m response:\n\u001b[0;32m--> 428\u001b[0m     \u001b[38;5;28;43mself\u001b[39;49m\u001b[38;5;241;43m.\u001b[39;49m\u001b[43merror_handler\u001b[49m\u001b[38;5;241;43m.\u001b[39;49m\u001b[43mcheck_response\u001b[49m\u001b[43m(\u001b[49m\u001b[43mresponse\u001b[49m\u001b[43m)\u001b[49m\n\u001b[1;32m    429\u001b[0m     response[\u001b[38;5;124m'\u001b[39m\u001b[38;5;124mvalue\u001b[39m\u001b[38;5;124m'\u001b[39m] \u001b[38;5;241m=\u001b[39m \u001b[38;5;28mself\u001b[39m\u001b[38;5;241m.\u001b[39m_unwrap_value(\n\u001b[1;32m    430\u001b[0m         response\u001b[38;5;241m.\u001b[39mget(\u001b[38;5;124m'\u001b[39m\u001b[38;5;124mvalue\u001b[39m\u001b[38;5;124m'\u001b[39m, \u001b[38;5;28;01mNone\u001b[39;00m))\n\u001b[1;32m    431\u001b[0m     \u001b[38;5;28;01mreturn\u001b[39;00m response\n",
      "File \u001b[0;32m~/opt/anaconda3/lib/python3.9/site-packages/selenium/webdriver/remote/errorhandler.py:243\u001b[0m, in \u001b[0;36mErrorHandler.check_response\u001b[0;34m(self, response)\u001b[0m\n\u001b[1;32m    241\u001b[0m         alert_text \u001b[38;5;241m=\u001b[39m value[\u001b[38;5;124m'\u001b[39m\u001b[38;5;124malert\u001b[39m\u001b[38;5;124m'\u001b[39m]\u001b[38;5;241m.\u001b[39mget(\u001b[38;5;124m'\u001b[39m\u001b[38;5;124mtext\u001b[39m\u001b[38;5;124m'\u001b[39m)\n\u001b[1;32m    242\u001b[0m     \u001b[38;5;28;01mraise\u001b[39;00m exception_class(message, screen, stacktrace, alert_text)  \u001b[38;5;66;03m# type: ignore[call-arg]  # mypy is not smart enough here\u001b[39;00m\n\u001b[0;32m--> 243\u001b[0m \u001b[38;5;28;01mraise\u001b[39;00m exception_class(message, screen, stacktrace)\n",
      "\u001b[0;31mNoSuchWindowException\u001b[0m: Message: no such window: target window already closed\nfrom unknown error: web view not found\n  (Session info: chrome=107.0.5304.121)\nStacktrace:\n0   chromedriver                        0x000000010287e2c8 chromedriver + 4752072\n1   chromedriver                        0x00000001027fe463 chromedriver + 4228195\n2   chromedriver                        0x0000000102461b18 chromedriver + 441112\n3   chromedriver                        0x000000010243e210 chromedriver + 295440\n4   chromedriver                        0x00000001024c3e3d chromedriver + 843325\n5   chromedriver                        0x00000001024d7719 chromedriver + 923417\n6   chromedriver                        0x00000001024bfb33 chromedriver + 826163\n7   chromedriver                        0x00000001024909fd chromedriver + 633341\n8   chromedriver                        0x0000000102492051 chromedriver + 639057\n9   chromedriver                        0x000000010284b30e chromedriver + 4543246\n10  chromedriver                        0x000000010284fa88 chromedriver + 4561544\n11  chromedriver                        0x00000001028576df chromedriver + 4593375\n12  chromedriver                        0x00000001028508fa chromedriver + 4565242\n13  chromedriver                        0x00000001028262cf chromedriver + 4391631\n14  chromedriver                        0x000000010286f5b8 chromedriver + 4691384\n15  chromedriver                        0x000000010286f739 chromedriver + 4691769\n16  chromedriver                        0x000000010288581e chromedriver + 4782110\n17  libsystem_pthread.dylib             0x00007ff81e7ca4f4 _pthread_start + 125\n18  libsystem_pthread.dylib             0x00007ff81e7c600f thread_start + 15\n"
     ]
    }
   ],
   "source": [
    "# 条件の一覧\n",
    "# 一番下にconditions\n",
    "if not globals().get(\"driver\"):\n",
    "    driver = webdriver.Chrome('/Users/ricky/dev/scraping/drivers/chromedriver')\n",
    "driver.get(\"https://job.mynavi.jp/24/pc/corpinfo/displayCorpSearch/index\")\n",
    "html = BeautifulSoup(driver.page_source, \"html.parser\")\n",
    "ind_category_inputs = html.find_all(\"a\", {\"id\":re.compile(r\"industryCheckLink\\d+\")})\n",
    "ind_detail_inputs = html.find_all(\"a\", {\"id\":re.compile(r\"industryCtgDetailedCheckArray\\d+\")})\n",
    "area_inputs = html.find_all(\"a\", {\"id\": re.compile(r\"ifRegional\\d*\")})\n",
    "occu_inputs = html.find_all(\"a\", {\"id\": re.compile(\"occGroup\\d+\")})\n",
    "corp_welfare_inputs = html.find_all(\"label\", {\"id\":re.compile(r\"corpWelfare\\d+\")})\n",
    "emp_inputs = html.find_all(\"label\", {\"id\":re.compile(r\"empInfo\\d+\")}) \n",
    "job_types = update_dictkey(make_id_dict(occu_inputs), modify_condition_str)\n",
    "\n",
    "conditions = {\n",
    "    \"業種(カテゴリ)\": make_id_dict(ind_category_inputs), \n",
    "    \"業種(詳細)\" : make_id_dict(ind_detail_inputs), \n",
    "    \"地域\": make_id_dict(area_inputs), \n",
    "    \"職種\": job_types, \n",
    "    \"福利厚生\": make_id_dict(corp_welfare_inputs),\n",
    "    \"従業員数\": make_id_dict(emp_inputs), \n",
    "}\n",
    "\n",
    "for category, conds in conditions.items():\n",
    "    print(\"==========================================\")\n",
    "    print(\"\\n\")\n",
    "    print(f\"条件カテゴリ : {category}\")\n",
    "    print(\"\\n\")\n",
    "    for cond in conds.keys():\n",
    "        print(f\"◼︎{cond}\")"
   ]
  },
  {
   "cell_type": "code",
   "execution_count": 21,
   "id": "c4fe1dd9",
   "metadata": {},
   "outputs": [
    {
     "data": {
      "text/plain": [
       "[]"
      ]
     },
     "execution_count": 21,
     "metadata": {},
     "output_type": "execute_result"
    }
   ],
   "source": []
  },
  {
   "cell_type": "code",
   "execution_count": 5,
   "id": "fe08e027",
   "metadata": {},
   "outputs": [
    {
     "name": "stderr",
     "output_type": "stream",
     "text": [
      "/var/folders/9z/_tv0kl191wvbx_078d5dg6fc0000gn/T/ipykernel_99463/1374958093.py:6: DeprecationWarning: executable_path has been deprecated, please pass in a Service object\n",
      "  driver = webdriver.Chrome('/Users/ricky/desktop/chromedriver')\n"
     ]
    }
   ],
   "source": [
    "# driverを使って自動でchromeを操作する。\n",
    "# コードの使用にはドライバーのインストールが必要 https://chromedriver.chromium.org/downloads\n",
    "# 以下のコード第一引数はドライバーの絶対パス\n",
    "try:\n",
    "    if not driver.window_handles:\n",
    "        driver = webdriver.Chrome('/Users/ricky/desktop/chromedriver')\n",
    "except:\n",
    "    driver = webdriver.Chrome('/Users/ricky/desktop/chromedriver')"
   ]
  },
  {
   "cell_type": "code",
   "execution_count": 25,
   "id": "f4178239",
   "metadata": {},
   "outputs": [
    {
     "data": {
      "text/plain": [
       "[{'業種(詳細)': ['非鉄金属'], '地域': ['宮城']},\n",
       " {'業種(詳細)': ['非鉄金属'], '地域': ['宮城'], '検索語': ['製造', '金属']},\n",
       " {'業種(詳細)': ['非鉄金属'], '地域': ['宮城'], '検索語': ['メーカー']},\n",
       " {'業種(詳細)': ['非鉄金属'], '地域': ['宮城'], '検索語': ['食品', 'メーカー']},\n",
       " {'業種(詳細)': ['非鉄金属'], '地域': ['宮城'], '検索語': ['海外赴任']}]"
      ]
     },
     "execution_count": 25,
     "metadata": {},
     "output_type": "execute_result"
    }
   ],
   "source": [
    "#★ 使い方\n",
    "#★ 直下のセルがスクレイピングの本文です。\n",
    "#★ search_info_list に 検索用のデータをリスト形式で入力すると調査ができます\n",
    "#★ 検索用のデータフォーマットは以下の example_info の通りです\n",
    "#★ 条件タイプ : [条件1, 条件2, ...] のフォーマットで条件を入力します。\n",
    "#★ 使っていない条件は[]でもいいですし(\"職種\"欄のように)、そもそも含めなくてもいいです。\"従業員数\"は含まれていませんがエラーにはなりません\n",
    "#★ また、データの最後に検索語をつけます\n",
    "\n",
    "example_info = {\n",
    "    \"業種(カテゴリ)\": ['農林・水産'], \n",
    "    \"業種(詳細)\" : ['非鉄金属', \"金属製品\"], \n",
    "    \"地域\": [\"東京\"], \n",
    "    \"職種\": [], \n",
    "    \"福利厚生\": [],\n",
    "    #\"従業員数\": \"なしでもいい\", \n",
    "    \"検索語\" : [\"製造\"],\n",
    "}\n",
    "\n",
    "\n",
    "\n",
    "#★ 使い方2\n",
    "#★ 何度も同じ条件で検索語のみを変えて検索する際は、いちいちフォーマットを作るのが面倒になります\n",
    "#★ そこで　condition_iter 関数を使います\n",
    "#★ 第1引数に条件を第２引数に検索語の「リストのリスト」を渡します。つまり、以下の通りです。\n",
    "\n",
    "first_param = {\n",
    "    \"業種(詳細)\" : ['非鉄金属'], \n",
    "    \"地域\": [\"宮城\"],\n",
    "}\n",
    "\n",
    "second_param = [(\"製造\", \"金属\"), (\"メーカー\"), (\"食品\", \"メーカー\"), (\"海外赴任\")] \n",
    "\n",
    "#★ 第1引数は条件です。少し単純にしました。\n",
    "#★ 第2引数は検索語の「リストのリスト」です。ここではわかりやすく、内側をタプルにしました。\n",
    "#★ これらを condition_iter 関数に渡すと、条件 + それぞれの検索語セットのデータをリスト形式で渡してくれます\n",
    "#★ リスト同士は extend() を使えば繋げられるので、list_1.extend(list_2) で検索データのリストをつなげたりして使ったりできます\n",
    "\n",
    "condition_iter(first_param, second_param)\n"
   ]
  },
  {
   "cell_type": "code",
   "execution_count": 421,
   "id": "3552c296",
   "metadata": {
    "scrolled": true
   },
   "outputs": [
    {
     "name": "stdout",
     "output_type": "stream",
     "text": [
      "=====================================================================\n",
      "検索語 : None  条件 : ['非鉄金属', '宮城']\n",
      "Search results number : 5\n",
      "Searching... page 0\n",
      "New data gained : [None, None, '非鉄金属', '宮城', None, None, None, 5, False, None, None]\n",
      "=====================================================================\n",
      "検索語 : ['製造', '金属']  条件 : ['非鉄金属', '宮城']\n",
      "Search results number : 1\n",
      "Searching... page 0\n",
      "New data gained : ['製造,金属', None, '非鉄金属', '宮城', None, None, None, 1, False, None, None]\n",
      "=====================================================================\n",
      "検索語 : ['メーカー']  条件 : ['非鉄金属', '宮城']\n",
      "Search results number : 2\n",
      "Searching... page 0\n",
      "New data gained : ['メーカー', None, '非鉄金属', '宮城', None, None, None, 2, False, None, None]\n",
      "=====================================================================\n",
      "検索語 : ['食品', 'メーカー']  条件 : ['非鉄金属', '宮城']\n",
      "Search results number : 0\n",
      "Searching... page 0\n",
      "New data gained : ['食品,メーカー', None, '非鉄金属', '宮城', None, None, None, 0, False, None, None]\n",
      "=====================================================================\n",
      "検索語 : ['海外赴任']  条件 : ['非鉄金属', '宮城']\n",
      "Search results number : 0\n",
      "Searching... page 0\n",
      "New data gained : ['海外赴任', None, '非鉄金属', '宮城', None, None, None, 0, False, None, None]\n"
     ]
    }
   ],
   "source": [
    "# スクレイピング\n",
    "# 条件と検索語をsearch_info_listにリスト形式で入れる\n",
    "search_info_list = [example_info]\n",
    "\n",
    "data = []\n",
    "\n",
    "for info in search_info_list:\n",
    "    print(\"=====================================================================\")\n",
    "    print_search_info(info)\n",
    "    success = search(info)\n",
    "    if not success:\n",
    "        continue\n",
    "    result_num = int(driver.find_element(By.ID, \"searchResultkensuu\").text)\n",
    "    print(f\"Search results number : {result_num}\")\n",
    "    next_page = True\n",
    "    found = False\n",
    "    page = 0\n",
    "    while next_page and not found:\n",
    "        print(f\"Searching... page {page}\")\n",
    "        html = BeautifulSoup(driver.page_source, \"html.parser\")\n",
    "        a_tags = html.find_all(\"a\", {\"id\":re.compile(\"corpNameLink\\[\\d+\\]\")})\n",
    "        for num, a in enumerate(a_tags):\n",
    "            if a.text == \"タキゲン製造(株)\":\n",
    "                order = int(page * 100 + num + 1)\n",
    "                row = [*extract_condition(info), result_num, True, order, round(order/result_num, 4)*100]\n",
    "                print(f\"New data gained : {row}\")\n",
    "                data.append(row)\n",
    "                found = True\n",
    "                break\n",
    "        try:\n",
    "            next_button = driver.find_element(By.ID, \"upperNextPage\")\n",
    "            next_button.click()\n",
    "            page += 1\n",
    "        except:\n",
    "            next_page = False\n",
    "    if not found:\n",
    "        row = [*extract_condition(info), result_num, False, None, None]\n",
    "        print(f\"New data gained : {row}\")\n",
    "        data.append(row)\n",
    "\n",
    "columns=[\"検索語\", \"業種(カテゴリ)\", \"業種(詳細)\", \"地域\", \"職種\", \"福利厚生\", \"従業員数\", \"検索結果数\", \"結果の有無\", \"順位\", \"検索結果の上位%\"]\n",
    "df = pd.DataFrame(data, columns=columns)"
   ]
  },
  {
   "cell_type": "code",
   "execution_count": 31,
   "id": "5efa6cf8",
   "metadata": {
    "scrolled": true
   },
   "outputs": [],
   "source": [
    "url = \"https://job.mynavi.jp/23/pc/search/corp71692/outline.html\"\n",
    "\n",
    "res  = requests.get(url)\n",
    "dom = BeautifulSoup(res.text)\n",
    "dom.find(\"title\", {})"
   ]
  },
  {
   "cell_type": "code",
   "execution_count": 46,
   "id": "e36e4cca",
   "metadata": {},
   "outputs": [
    {
     "data": {
      "text/plain": [
       "<re.Match object; span=(9, 14), match='の新卒採用'>"
      ]
     },
     "execution_count": 46,
     "metadata": {},
     "output_type": "execute_result"
    }
   ],
   "source": [
    "import re\n",
    "res  = requests.get(url)\n",
    "dom = BeautifulSoup(res.text)\n",
    "dom.find(\"title\", {})\n",
    "t = dom.find(\"title\", {}).text\n",
    "if re.search(\"の新卒採用\", t):\n",
    "    company = t.split(\"の新卒採用\")[0]\n"
   ]
  },
  {
   "cell_type": "code",
   "execution_count": null,
   "id": "868dd976",
   "metadata": {},
   "outputs": [],
   "source": []
  },
  {
   "cell_type": "code",
   "execution_count": null,
   "id": "e0023057",
   "metadata": {
    "scrolled": true
   },
   "outputs": [],
   "source": [
    "\n"
   ]
  },
  {
   "cell_type": "code",
   "execution_count": null,
   "id": "b7f089ce",
   "metadata": {},
   "outputs": [],
   "source": []
  },
  {
   "cell_type": "code",
   "execution_count": null,
   "id": "ec582cfb",
   "metadata": {},
   "outputs": [],
   "source": []
  },
  {
   "cell_type": "code",
   "execution_count": null,
   "id": "1a6758c0",
   "metadata": {},
   "outputs": [],
   "source": []
  },
  {
   "cell_type": "code",
   "execution_count": null,
   "id": "df7276c5",
   "metadata": {},
   "outputs": [],
   "source": []
  },
  {
   "cell_type": "code",
   "execution_count": null,
   "id": "a4993e78",
   "metadata": {},
   "outputs": [],
   "source": []
  }
 ],
 "metadata": {
  "kernelspec": {
   "display_name": "Python 3 (ipykernel)",
   "language": "python",
   "name": "python3"
  },
  "language_info": {
   "codemirror_mode": {
    "name": "ipython",
    "version": 3
   },
   "file_extension": ".py",
   "mimetype": "text/x-python",
   "name": "python",
   "nbconvert_exporter": "python",
   "pygments_lexer": "ipython3",
   "version": "3.9.12"
  }
 },
 "nbformat": 4,
 "nbformat_minor": 5
}
